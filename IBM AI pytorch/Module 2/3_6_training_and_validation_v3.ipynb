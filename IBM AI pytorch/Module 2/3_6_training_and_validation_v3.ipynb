{
  "cells": [
    {
      "cell_type": "markdown",
      "metadata": {
        "id": "e48a8856-f401-4c26-82e6-b2305ce18f92"
      },
      "source": [
        "<p style=\"text-align:center\">\n",
        "    <a href=\"https://skills.network/?utm_medium=Exinfluencer&utm_source=Exinfluencer&utm_content=000026UJ&utm_term=10006555&utm_id=NA-SkillsNetwork-Channel-SkillsNetworkCoursesIBMDeveloperSkillsNetworkDL0110ENSkillsNetwork952-2023-01-01\">\n",
        "    <img src=\"https://cf-courses-data.s3.us.cloud-object-storage.appdomain.cloud/assets/logos/SN_web_lightmode.png\" width=\"200\" alt=\"Skills Network Logo\"  />\n",
        "    </a>\n",
        "</p>\n"
      ]
    },
    {
      "cell_type": "markdown",
      "metadata": {
        "id": "34dde877-41a6-4439-b466-b77aba5e82d5"
      },
      "source": [
        "<h1>Linear regression: Training and Validation Data</h1>\n"
      ]
    },
    {
      "cell_type": "markdown",
      "metadata": {
        "id": "3b0d20ae-703e-4284-97a7-c0a9a073dacc"
      },
      "source": [
        "<h2>Objective</h2><ul><li> How to use learning rate hyperparameter to improve your model result.  .</li></ul>\n"
      ]
    },
    {
      "cell_type": "markdown",
      "metadata": {
        "id": "2845467c-5d1a-49fb-ab74-297b3cbe5aa2"
      },
      "source": [
        "<h2>Table of Contents</h2>\n",
        "<p>In this lab, you will learn to select the best learning rate by using validation data.</p>\n",
        "\n",
        "<ul>\n",
        "    <li><a href=\"#Makeup_Data\">Make Some Data</a></li>\n",
        "    <li><a href=\"#LR_Loader_Cost\">Create a Linear Regression Object, Data Loader and Criterion Function</a></li>\n",
        "    <li><a href=\"#LR_Hyper\">Different learning rates and Data Structures to Store results for Different Hyperparameters</a></li>\n",
        "    <li><a href=\"#Model\">Train different modules for different Hyperparameters</a></li>\n",
        "    <li><a href=\"#Result\">View Results</a></li>\n",
        "</ul>\n",
        "\n",
        "<p>Estimated Time Needed: <strong>30 min</strong></p>\n",
        "\n",
        "<hr>\n"
      ]
    },
    {
      "cell_type": "markdown",
      "metadata": {
        "id": "346e9192-9ca5-480e-b4a4-b056de5edea3"
      },
      "source": [
        "<h2>Preparation</h2>\n"
      ]
    },
    {
      "cell_type": "markdown",
      "metadata": {
        "id": "408e06f8-8de1-4df0-9b9b-a6c668c20a2d"
      },
      "source": [
        "We'll need the following libraries and set the random seed.\n"
      ]
    },
    {
      "cell_type": "code",
      "metadata": {
        "id": "634d3d60-95f3-49bc-a895-c0aae59bda5b"
      },
      "outputs": [],
      "source": [
        "# Import libraries we need for this lab, and set the random seed\n",
        "\n",
        "from torch import nn\n",
        "import torch\n",
        "import numpy as np\n",
        "import matplotlib.pyplot as plt\n",
        "from torch import nn,optim"
      ],
      "execution_count": 1
    },
    {
      "cell_type": "markdown",
      "metadata": {
        "id": "5286c148-c9f1-4cc9-8253-f888060a6d32"
      },
      "source": [
        "<!--Empty Space for separating topics-->\n"
      ]
    },
    {
      "cell_type": "markdown",
      "metadata": {
        "id": "b45133e8-d811-4a7d-b003-38dc5adf3101"
      },
      "source": [
        "<h2 id=\"Makeup_Data\">Make Some Data</h2>\n"
      ]
    },
    {
      "cell_type": "markdown",
      "metadata": {
        "id": "b0c26a51-5513-481e-b22a-f56f2d8b8054"
      },
      "source": [
        "First, we'll create some artificial data in a dataset class. The class will include the option to produce training data or validation data. The training data will include outliers.\n"
      ]
    },
    {
      "cell_type": "code",
      "metadata": {
        "id": "3cf22881-9a6c-4d08-be84-ccb1a32d3fd8"
      },
      "outputs": [],
      "source": [
        "# Create Data class\n",
        "\n",
        "from torch.utils.data import Dataset, DataLoader\n",
        "\n",
        "class Data(Dataset):\n",
        "\n",
        "    # Constructor\n",
        "    def __init__(self, train = True):\n",
        "            self.x = torch.arange(-3, 3, 0.1).view(-1, 1)\n",
        "            self.f = -3 * self.x + 1\n",
        "            self.y = self.f + 0.1 * torch.randn(self.x.size())\n",
        "            self.len = self.x.shape[0]\n",
        "\n",
        "            #outliers\n",
        "            if train == True:\n",
        "                self.y[0] = 0\n",
        "                self.y[50:55] = 20\n",
        "            else:\n",
        "                pass\n",
        "\n",
        "    # Getter\n",
        "    def __getitem__(self, index):\n",
        "        return self.x[index], self.y[index]\n",
        "\n",
        "    # Get Length\n",
        "    def __len__(self):\n",
        "        return self.len"
      ],
      "execution_count": 2
    },
    {
      "cell_type": "markdown",
      "metadata": {
        "id": "97696778-0115-42f1-919c-cd34cb1060ee"
      },
      "source": [
        "Create two objects: one that contains training data and a second that contains validation data. Assume that the training data has the outliers.\n"
      ]
    },
    {
      "cell_type": "code",
      "metadata": {
        "id": "fecd2ba3-1784-47b9-9009-7e55895b531a"
      },
      "outputs": [],
      "source": [
        "# Create training dataset and validation dataset\n",
        "\n",
        "train_data = Data()\n",
        "val_data = Data(train = False)"
      ],
      "execution_count": 3
    },
    {
      "cell_type": "markdown",
      "metadata": {
        "id": "e5bb5a00-ba79-43e0-bb13-7afb2deb9988"
      },
      "source": [
        "Overlay the training points in red over the function that generated the data. Notice the outliers at x=-3 and around x=2:\n"
      ]
    },
    {
      "cell_type": "code",
      "metadata": {
        "colab": {
          "base_uri": "https://localhost:8080/",
          "height": 449
        },
        "id": "27589905-6ec4-45d4-bd99-239bcc36448b",
        "outputId": "a7ce4cee-d9c1-4d21-b573-2f9d827cae44"
      },
      "outputs": [
        {
          "output_type": "display_data",
          "data": {
            "text/plain": [
              "<Figure size 640x480 with 1 Axes>"
            ],
            "image/png": "[encoded data removed]"
          },
          "metadata": {}
        }
      ],
      "source": [
        "# Plot out training points\n",
        "\n",
        "plt.plot(train_data.x.numpy(), train_data.y.numpy(), 'xr',label=\"training data \")\n",
        "plt.plot(train_data.x.numpy(), train_data.f.numpy(),label=\"true function  \")\n",
        "plt.xlabel('x')\n",
        "plt.ylabel('y')\n",
        "plt.legend()\n",
        "plt.show()"
      ],
      "execution_count": 4
    },
    {
      "cell_type": "markdown",
      "metadata": {
        "id": "b55dadb3-f83a-45b5-bc63-f404eac2d468"
      },
      "source": [
        "<!--Empty Space for separating topics-->\n"
      ]
    },
    {
      "cell_type": "markdown",
      "metadata": {
        "id": "23223e9e-b311-43ff-be2d-ca6ad5fe099f"
      },
      "source": [
        "<h2 id=\"LR_Loader_Cost\">Create a Linear Regression Object,  Data Loader, and Criterion Function</h2>\n"
      ]
    },
    {
      "cell_type": "code",
      "metadata": {
        "id": "3bac9c47-fdfc-45f7-a6f6-7ccb12c0938e"
      },
      "outputs": [],
      "source": [
        "# Create Linear Regression Class\n",
        "\n",
        "from torch import nn\n",
        "\n",
        "class linear_regression(nn.Module):\n",
        "\n",
        "    # Constructor\n",
        "    def __init__(self, input_size, output_size):\n",
        "        super(linear_regression, self).__init__()\n",
        "        self.linear = nn.Linear(input_size, output_size)\n",
        "\n",
        "    # Prediction function\n",
        "    def forward(self, x):\n",
        "        yhat = self.linear(x)\n",
        "        return yhat"
      ],
      "execution_count": 5
    },
    {
      "cell_type": "markdown",
      "metadata": {
        "id": "a91b219f-34ac-4614-95ce-3673c34e3b6f"
      },
      "source": [
        "Create the criterion function and a <code>DataLoader</code> object:\n"
      ]
    },
    {
      "cell_type": "code",
      "metadata": {
        "id": "c2c60e93-e2f7-4df2-a47c-f1cf4368bd79"
      },
      "outputs": [],
      "source": [
        "# Create MSELoss function and DataLoader\n",
        "\n",
        "criterion = nn.MSELoss()\n",
        "trainloader = DataLoader(dataset = train_data, batch_size = 1)"
      ],
      "execution_count": 6
    },
    {
      "cell_type": "markdown",
      "metadata": {
        "id": "4cb17fe7-25de-4a4a-9edd-028c70a4aa10"
      },
      "source": [
        "<!--Empty Space for separating topics-->\n"
      ]
    },
    {
      "cell_type": "markdown",
      "metadata": {
        "id": "f18a0c0a-967a-4286-b477-775446545d80"
      },
      "source": [
        "<h2 id=\"LR_Hyper\">Different learning rates and Data Structures to Store results for different Hyperparameters</h2>\n"
      ]
    },
    {
      "cell_type": "markdown",
      "metadata": {
        "id": "09d070b1-912f-468b-8480-8958ef54585c"
      },
      "source": [
        "Create a list with different learning rates and a tensor (can be a list) for the training and validating cost/total loss. Include the list MODELS, which stores the training model for every value of the learning rate.\n"
      ]
    },
    {
      "cell_type": "code",
      "metadata": {
        "id": "0c7163ac-3cc5-4bd3-b361-982d5e5f4708"
      },
      "outputs": [],
      "source": [
        "# Create Learning Rate list, the error lists and the MODELS list\n",
        "\n",
        "learning_rates=[0.0001, 0.001, 0.01, 0.1]\n",
        "\n",
        "train_error=torch.zeros(len(learning_rates))\n",
        "validation_error=torch.zeros(len(learning_rates))\n",
        "\n",
        "MODELS=[]"
      ],
      "execution_count": 7
    },
    {
      "cell_type": "markdown",
      "metadata": {
        "id": "510e6b5a-7456-4983-8c9e-14fb3eec96fd"
      },
      "source": [
        "<!--Empty Space for separating topics-->\n"
      ]
    },
    {
      "cell_type": "markdown",
      "metadata": {
        "id": "59ddb10c-3c4b-46ba-9957-504812749a08"
      },
      "source": [
        "<h2 id=\"Model\">Train different models  for different Hyperparameters</h2>\n"
      ]
    },
    {
      "cell_type": "markdown",
      "metadata": {
        "id": "8a53bd14-6b3d-431d-befb-d20b017c3a02"
      },
      "source": [
        "Try different values of learning rates, perform stochastic gradient descent, and save the results on the training data and validation data. Finally, save each model in a list.\n"
      ]
    },
    {
      "cell_type": "code",
      "metadata": {
        "id": "59af0417-3a09-43e6-aede-80fb9589432c"
      },
      "outputs": [],
      "source": [
        "# Define the train model function and train the model\n",
        "\n",
        "def train_model_with_lr (iter, lr_list):\n",
        "\n",
        "    # iterate through different learning rates\n",
        "    for i, lr in enumerate(lr_list):\n",
        "        model = linear_regression(1, 1)\n",
        "        optimizer = optim.SGD(model.parameters(), lr = lr)\n",
        "        for epoch in range(iter):\n",
        "            for x, y in trainloader:\n",
        "                yhat = model(x)\n",
        "                loss = criterion(yhat, y)\n",
        "                optimizer.zero_grad()\n",
        "                loss.backward()\n",
        "                optimizer.step()\n",
        "\n",
        "        # train data\n",
        "        Yhat = model(train_data.x)\n",
        "        train_loss = criterion(Yhat, train_data.y)\n",
        "        train_error[i] = train_loss.item()\n",
        "\n",
        "        # validation data\n",
        "        Yhat = model(val_data.x)\n",
        "        val_loss = criterion(Yhat, val_data.y)\n",
        "        validation_error[i] = val_loss.item()\n",
        "        MODELS.append(model)\n",
        "\n",
        "train_model_with_lr(10, learning_rates)"
      ],
      "execution_count": 8
    },
    {
      "cell_type": "markdown",
      "metadata": {
        "id": "2874efb1-bc81-47ce-be36-93b3b79b5b57"
      },
      "source": [
        "<!--Empty Space for separating topics-->\n"
      ]
    },
    {
      "cell_type": "markdown",
      "metadata": {
        "id": "b73d6f09-3548-45b1-8b74-3d4e017d0231"
      },
      "source": [
        "<h2 id=\"Result\">View the Results</h2>\n"
      ]
    },
    {
      "cell_type": "markdown",
      "metadata": {
        "id": "d349c931-9d39-4987-9c2e-87f72717dcf1"
      },
      "source": [
        "Plot the training loss and validation loss for each learning rate:  \n"
      ]
    },
    {
      "cell_type": "code",
      "metadata": {
        "colab": {
          "base_uri": "https://localhost:8080/",
          "height": 454
        },
        "id": "9bec0e87-e7fd-4677-9c95-20c74fcb7e5b",
        "outputId": "7d01d313-42da-4674-e17b-801c3efd307f"
      },
      "outputs": [
        {
          "output_type": "display_data",
          "data": {
            "text/plain": [
              "<Figure size 640x480 with 1 Axes>"
            ],
            "image/png": "[encoded data removed]"
          },
          "metadata": {}
        }
      ],
      "source": [
        "# Plot the training loss and validation loss\n",
        "\n",
        "plt.semilogx(np.array(learning_rates), train_error.numpy(), label = 'training loss/total Loss')\n",
        "plt.semilogx(np.array(learning_rates), validation_error.numpy(), label = 'validation cost/total Loss')\n",
        "plt.ylabel('Cost\\ Total Loss')\n",
        "plt.xlabel('learning rate')\n",
        "plt.legend()\n",
        "plt.show()"
      ],
      "execution_count": 9
    },
    {
      "cell_type": "markdown",
      "metadata": {
        "id": "f9baafb6-8ab3-4d90-9756-b664e979ee7f"
      },
      "source": [
        "Produce a prediction by using the validation data for each model:  \n"
      ]
    },
    {
      "cell_type": "code",
      "metadata": {
        "colab": {
          "base_uri": "https://localhost:8080/",
          "height": 657
        },
        "id": "575c4d64-6801-4107-af23-2eccfc0a4258",
        "outputId": "a0fb076e-1c77-4c13-9bf8-fd097f55262b"
      },
      "outputs": [
        {
          "output_type": "stream",
          "name": "stdout",
          "text": [
            "0 [[-0.49974555]\n",
            " [-0.49559826]\n",
            " [-0.49145094]]\n",
            "1 [[5.704324 ]\n",
            " [5.5884485]\n",
            " [5.4725723]]\n",
            "2 [[6.5971394]\n",
            " [6.4635363]\n",
            " [6.329933 ]]\n",
            "3 [[14.304359]\n",
            " [13.875353]\n",
            " [13.446344]]\n"
          ]
        },
        {
          "output_type": "display_data",
          "data": {
            "text/plain": [
              "<Figure size 640x480 with 1 Axes>"
            ],
            "image/png": "[encoded data removed]"
          },
          "metadata": {}
        }
      ],
      "source": [
        "# Plot the predictions\n",
        "\n",
        "i = 0\n",
        "for model, learning_rate in zip(MODELS, learning_rates):\n",
        "    yhat = model(val_data.x)\n",
        "    plt.plot(val_data.x.numpy(), yhat.detach().numpy(), label = 'lr:' + str(learning_rate))\n",
        "    print(i, yhat.detach().numpy()[0:3])\n",
        "    i+=1\n",
        "plt.plot(val_data.x.numpy(), val_data.f.numpy(), 'or', label = 'validation data')\n",
        "plt.xlabel('x')\n",
        "plt.ylabel('y')\n",
        "plt.legend()\n",
        "plt.show()"
      ],
      "execution_count": 10
    },
    {
      "cell_type": "markdown",
      "metadata": {
        "id": "f6f0bd1b-e1bf-4805-ab65-732e756ea65c"
      },
      "source": [
        "<!--Empty Space for separating topics-->\n"
      ]
    },
    {
      "cell_type": "markdown",
      "metadata": {
        "id": "3fea6f93-5669-4fbc-991f-a27f0851f0f2"
      },
      "source": [
        "<h3>Practice</h3>\n"
      ]
    },
    {
      "cell_type": "markdown",
      "metadata": {
        "id": "e8bddb1f-8348-4216-967f-52fe6cacde78"
      },
      "source": [
        "The object <code>good_model</code> is the best performing model. Use the train loader to get the data samples x and y. Produce an estimate for <code>yhat</code> and print it out for every sample in a for a loop. Compare it to the actual prediction <code>y</code>.\n"
      ]
    },
    {
      "cell_type": "code",
      "metadata": {
        "colab": {
          "base_uri": "https://localhost:8080/"
        },
        "id": "8a5ef13f-4580-4c04-8d7d-813fc32c6687",
        "outputId": "814f2531-4789-43ca-ed80-4c903759d3c3"
      },
      "outputs": [
        {
          "output_type": "stream",
          "name": "stdout",
          "text": [
            "yhat=  tensor([[14.3044]], grad_fn=<AddmmBackward0>) y tensor([[0.]])\n",
            "yhat=  tensor([[13.8754]], grad_fn=<AddmmBackward0>) y tensor([[9.6339]])\n",
            "yhat=  tensor([[13.4463]], grad_fn=<AddmmBackward0>) y tensor([[9.3238]])\n",
            "yhat=  tensor([[13.0173]], grad_fn=<AddmmBackward0>) y tensor([[9.0588]])\n",
            "yhat=  tensor([[12.5883]], grad_fn=<AddmmBackward0>) y tensor([[8.6048]])\n",
            "yhat=  tensor([[12.1593]], grad_fn=<AddmmBackward0>) y tensor([[8.5063]])\n",
            "yhat=  tensor([[11.7303]], grad_fn=<AddmmBackward0>) y tensor([[8.4185]])\n",
            "yhat=  tensor([[11.3013]], grad_fn=<AddmmBackward0>) y tensor([[7.9018]])\n",
            "yhat=  tensor([[10.8723]], grad_fn=<AddmmBackward0>) y tensor([[7.9240]])\n",
            "yhat=  tensor([[10.4433]], grad_fn=<AddmmBackward0>) y tensor([[7.2837]])\n",
            "yhat=  tensor([[10.0143]], grad_fn=<AddmmBackward0>) y tensor([[7.1166]])\n",
            "yhat=  tensor([[9.5853]], grad_fn=<AddmmBackward0>) y tensor([[6.7562]])\n",
            "yhat=  tensor([[9.1563]], grad_fn=<AddmmBackward0>) y tensor([[6.3999]])\n",
            "yhat=  tensor([[8.7273]], grad_fn=<AddmmBackward0>) y tensor([[6.1977]])\n",
            "yhat=  tensor([[8.2983]], grad_fn=<AddmmBackward0>) y tensor([[5.7854]])\n",
            "yhat=  tensor([[7.8692]], grad_fn=<AddmmBackward0>) y tensor([[5.5267]])\n",
            "yhat=  tensor([[7.4402]], grad_fn=<AddmmBackward0>) y tensor([[5.0925]])\n",
            "yhat=  tensor([[7.0112]], grad_fn=<AddmmBackward0>) y tensor([[4.9295]])\n",
            "yhat=  tensor([[6.5822]], grad_fn=<AddmmBackward0>) y tensor([[4.5204]])\n",
            "yhat=  tensor([[6.1532]], grad_fn=<AddmmBackward0>) y tensor([[4.3475]])\n",
            "yhat=  tensor([[5.7242]], grad_fn=<AddmmBackward0>) y tensor([[4.0155]])\n",
            "yhat=  tensor([[5.2952]], grad_fn=<AddmmBackward0>) y tensor([[3.6418]])\n",
            "yhat=  tensor([[4.8662]], grad_fn=<AddmmBackward0>) y tensor([[3.5438]])\n",
            "yhat=  tensor([[4.4372]], grad_fn=<AddmmBackward0>) y tensor([[3.2864]])\n",
            "yhat=  tensor([[4.0082]], grad_fn=<AddmmBackward0>) y tensor([[2.7071]])\n",
            "yhat=  tensor([[3.5792]], grad_fn=<AddmmBackward0>) y tensor([[2.4538]])\n",
            "yhat=  tensor([[3.1502]], grad_fn=<AddmmBackward0>) y tensor([[2.1296]])\n",
            "yhat=  tensor([[2.7212]], grad_fn=<AddmmBackward0>) y tensor([[1.7603]])\n",
            "yhat=  tensor([[2.2922]], grad_fn=<AddmmBackward0>) y tensor([[1.5328]])\n",
            "yhat=  tensor([[1.8631]], grad_fn=<AddmmBackward0>) y tensor([[1.4301]])\n",
            "yhat=  tensor([[1.4341]], grad_fn=<AddmmBackward0>) y tensor([[0.8654]])\n",
            "yhat=  tensor([[1.0051]], grad_fn=<AddmmBackward0>) y tensor([[0.6155]])\n",
            "yhat=  tensor([[0.5761]], grad_fn=<AddmmBackward0>) y tensor([[0.5087]])\n",
            "yhat=  tensor([[0.1471]], grad_fn=<AddmmBackward0>) y tensor([[0.2043]])\n",
            "yhat=  tensor([[-0.2819]], grad_fn=<AddmmBackward0>) y tensor([[-0.1751]])\n",
            "yhat=  tensor([[-0.7109]], grad_fn=<AddmmBackward0>) y tensor([[-0.6379]])\n",
            "yhat=  tensor([[-1.1399]], grad_fn=<AddmmBackward0>) y tensor([[-0.7534]])\n",
            "yhat=  tensor([[-1.5689]], grad_fn=<AddmmBackward0>) y tensor([[-1.0351]])\n",
            "yhat=  tensor([[-1.9979]], grad_fn=<AddmmBackward0>) y tensor([[-1.4084]])\n",
            "yhat=  tensor([[-2.4269]], grad_fn=<AddmmBackward0>) y tensor([[-1.5952]])\n",
            "yhat=  tensor([[-2.8559]], grad_fn=<AddmmBackward0>) y tensor([[-2.0060]])\n",
            "yhat=  tensor([[-3.2849]], grad_fn=<AddmmBackward0>) y tensor([[-2.0991]])\n",
            "yhat=  tensor([[-3.7140]], grad_fn=<AddmmBackward0>) y tensor([[-2.5635]])\n",
            "yhat=  tensor([[-4.1430]], grad_fn=<AddmmBackward0>) y tensor([[-2.8267]])\n",
            "yhat=  tensor([[-4.5720]], grad_fn=<AddmmBackward0>) y tensor([[-3.1742]])\n",
            "yhat=  tensor([[-5.0010]], grad_fn=<AddmmBackward0>) y tensor([[-3.4096]])\n",
            "yhat=  tensor([[-5.4300]], grad_fn=<AddmmBackward0>) y tensor([[-3.8588]])\n",
            "yhat=  tensor([[-5.8590]], grad_fn=<AddmmBackward0>) y tensor([[-4.0022]])\n",
            "yhat=  tensor([[-6.2880]], grad_fn=<AddmmBackward0>) y tensor([[-4.3667]])\n",
            "yhat=  tensor([[-6.7170]], grad_fn=<AddmmBackward0>) y tensor([[-4.6201]])\n",
            "yhat=  tensor([[-7.1460]], grad_fn=<AddmmBackward0>) y tensor([[20.]])\n",
            "yhat=  tensor([[-7.5750]], grad_fn=<AddmmBackward0>) y tensor([[20.]])\n",
            "yhat=  tensor([[-8.0040]], grad_fn=<AddmmBackward0>) y tensor([[20.]])\n",
            "yhat=  tensor([[-8.4330]], grad_fn=<AddmmBackward0>) y tensor([[20.]])\n",
            "yhat=  tensor([[-8.8620]], grad_fn=<AddmmBackward0>) y tensor([[20.]])\n",
            "yhat=  tensor([[-9.2910]], grad_fn=<AddmmBackward0>) y tensor([[-6.5458]])\n",
            "yhat=  tensor([[-9.7201]], grad_fn=<AddmmBackward0>) y tensor([[-6.6602]])\n",
            "yhat=  tensor([[-10.1491]], grad_fn=<AddmmBackward0>) y tensor([[-7.1203]])\n",
            "yhat=  tensor([[-10.5781]], grad_fn=<AddmmBackward0>) y tensor([[-7.4068]])\n",
            "yhat=  tensor([[-11.0071]], grad_fn=<AddmmBackward0>) y tensor([[-7.5842]])\n"
          ]
        }
      ],
      "source": [
        "good_model = MODELS[np.argmin(validation_error)]\n",
        "\n",
        "#Type your code here:\n",
        "for x, y in trainloader:\n",
        "    print(\"yhat= \", model(x),\"y\", y)"
      ],
      "execution_count": 12
    },
    {
      "cell_type": "markdown",
      "metadata": {
        "id": "f45e8668-d81a-4b45-a872-788a383d9cd0"
      },
      "source": [
        "Double-click <b>here</b> for the solution.\n",
        "\n",
        "<!--\n",
        "for x, y in trainloader:\n",
        "    print(\"yhat= \", model(x),\"y\", y)\n",
        "-->\n"
      ]
    },
    {
      "cell_type": "markdown",
      "metadata": {
        "id": "67d7f736-1e9b-4d5b-8dd4-f32dc380cd01"
      },
      "source": [
        "\n",
        "\n",
        "<a href=\"https://dataplatform.cloud.ibm.com/registration/stepone?utm_medium=Exinfluencer&utm_source=Exinfluencer&utm_content=000026UJ&utm_term=10006555&utm_id=NA-SkillsNetwork-Channel-SkillsNetworkCoursesIBMDeveloperSkillsNetworkDL0110ENSkillsNetwork952-2023-01-01&context=cpdaas&apps=data_science_experience%2Cwatson_machine_learning\"><img src=\"https://cf-courses-data.s3.us.cloud-object-storage.appdomain.cloud/IBMDeveloperSkillsNetwork-DL0110EN-SkillsNetwork/Template/module%201/images/Watson_Studio.png\"></a>\n"
      ]
    },
    {
      "cell_type": "markdown",
      "metadata": {
        "id": "2d34f7bf-a308-44af-8928-d4cc6178e997"
      },
      "source": [
        "<!--Empty Space for separating topics-->\n"
      ]
    },
    {
      "cell_type": "markdown",
      "metadata": {
        "id": "df181248-8095-4a99-9188-2de58144efcc"
      },
      "source": [
        "<h2>About the Authors:</h2>\n",
        "\n",
        "<a href=\"https://www.linkedin.com/in/joseph-s-50398b136/?utm_medium=Exinfluencer&utm_source=Exinfluencer&utm_content=000026UJ&utm_term=10006555&utm_id=NA-SkillsNetwork-Channel-SkillsNetworkCoursesIBMDeveloperSkillsNetworkDL0110ENSkillsNetwork952-2023-01-01\">Joseph Santarcangelo</a> has a PhD in Electrical Engineering, his research focused on using machine learning, signal processing, and computer vision to determine how videos impact human cognition. Joseph has been working for IBM since he completed his PhD.\n"
      ]
    },
    {
      "cell_type": "markdown",
      "metadata": {
        "id": "4271e3dc-d32e-4ed4-b1a8-0b4a92ca482b"
      },
      "source": [
        "Other contributors: <a href=\"https://www.linkedin.com/in/michelleccarey/?utm_medium=Exinfluencer&utm_source=Exinfluencer&utm_content=000026UJ&utm_term=10006555&utm_id=NA-SkillsNetwork-Channel-SkillsNetworkCoursesIBMDeveloperSkillsNetworkDL0110ENSkillsNetwork952-2023-01-01\">Michelle Carey</a>, <a href=\"www.linkedin.com/in/jiahui-mavis-zhou-a4537814a\">Mavis Zhou</a>\n"
      ]
    },
    {
      "cell_type": "markdown",
      "metadata": {
        "id": "a0f3f557-8246-4c0d-95bd-9384ba077a7c"
      },
      "source": [
        "\n",
        "## Change Log\n",
        "\n",
        "|  Date (YYYY-MM-DD) |  Version | Changed By  |  Change Description |\n",
        "|---|---|---|---|\n",
        "| 2020-09-23  | 2.0  | Shubham  |  Migrated Lab to Markdown and added to course repo in GitLab |\n",
        "\n"
      ]
    },
    {
      "cell_type": "markdown",
      "metadata": {
        "id": "3687f258-3344-42ff-a6fc-93cbf86e3099"
      },
      "source": [
        "<hr>\n"
      ]
    },
    {
      "cell_type": "markdown",
      "metadata": {
        "id": "eb8e1959-7731-4b36-8c0e-988a93787eca"
      },
      "source": [
        "\n",
        "\n",
        "\n",
        "## <h3 align=\"center\"> © IBM Corporation 2020. All rights reserved. <h3/>\n"
      ]
    }
  ],
  "metadata": {
    "kernelspec": {
      "display_name": "Python",
      "language": "python",
      "name": "conda-env-python-py"
    },
    "language_info": {
      "name": ""
    },
    "colab": {
      "provenance": []
    }
  },
  "nbformat": 4,
  "nbformat_minor": 0
}